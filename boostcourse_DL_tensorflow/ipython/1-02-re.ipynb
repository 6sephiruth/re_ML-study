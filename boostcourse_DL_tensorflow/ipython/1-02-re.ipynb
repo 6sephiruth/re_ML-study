{
 "cells": [
  {
   "cell_type": "code",
   "execution_count": 23,
   "metadata": {},
   "outputs": [],
   "source": [
    "import numpy as np\n",
    "import tensorflow as tf"
   ]
  },
  {
   "cell_type": "markdown",
   "metadata": {},
   "source": [
    "x = [1., 2., 3., 4.]\n",
    "Y = [1., 2., 3., 4.]"
   ]
  },
  {
   "cell_type": "code",
   "execution_count": 24,
   "metadata": {},
   "outputs": [],
   "source": [
    "x = [1., 2., 3., 4.]\n",
    "Y = [1., 2., 3., 4.]"
   ]
  },
  {
   "cell_type": "code",
   "execution_count": 56,
   "metadata": {},
   "outputs": [],
   "source": [
    "W = tf.Variable(2.9)\n",
    "b = tf.Variable(4.0)\n",
    "\n",
    "learning_rate = 0.01"
   ]
  },
  {
   "cell_type": "code",
   "execution_count": 57,
   "metadata": {},
   "outputs": [
    {
     "name": "stdout",
     "output_type": "stream",
     "text": [
      "W: 2.415, b: 3.825  cost: 81.075012\n",
      "W: 2.012, b: 3.678  cost: 56.709198\n",
      "W: 1.676, b: 3.554  cost: 39.799561\n",
      "W: 1.397, b: 3.449  cost: 28.063635\n",
      "W: 1.165, b: 3.360  cost: 19.917645\n",
      "W: 0.972, b: 3.284  cost: 14.262659\n",
      "W: 0.812, b: 3.220  cost: 10.336138\n",
      "W: 0.679, b: 3.165  cost: 7.608979\n",
      "W: 0.569, b: 3.118  cost: 5.714051\n",
      "W: 0.478, b: 3.077  cost: 4.396602\n",
      "W: 0.402, b: 3.042  cost: 3.479871\n",
      "W: 0.340, b: 3.011  cost: 2.841204\n",
      "W: 0.288, b: 2.984  cost: 2.395496\n",
      "W: 0.246, b: 2.959  cost: 2.083694\n",
      "W: 0.211, b: 2.938  cost: 1.864821\n",
      "W: 0.183, b: 2.919  cost: 1.710445\n",
      "W: 0.159, b: 2.901  cost: 1.600836\n",
      "W: 0.140, b: 2.885  cost: 1.522306\n",
      "W: 0.125, b: 2.870  cost: 1.465354\n",
      "W: 0.113, b: 2.857  cost: 1.423392\n",
      "W: 0.103, b: 2.844  cost: 1.391844\n",
      "W: 0.095, b: 2.832  cost: 1.367536\n",
      "W: 0.089, b: 2.821  cost: 1.348269\n",
      "W: 0.085, b: 2.810  cost: 1.332511\n",
      "W: 0.082, b: 2.799  cost: 1.319203\n",
      "W: 0.080, b: 2.789  cost: 1.307611\n",
      "W: 0.078, b: 2.779  cost: 1.297221\n",
      "W: 0.077, b: 2.770  cost: 1.287681\n",
      "W: 0.077, b: 2.761  cost: 1.278744\n",
      "W: 0.078, b: 2.752  cost: 1.270240\n",
      "W: 0.078, b: 2.743  cost: 1.262050\n",
      "W: 0.080, b: 2.734  cost: 1.254090\n",
      "W: 0.081, b: 2.725  cost: 1.246305\n",
      "W: 0.083, b: 2.717  cost: 1.238655\n",
      "W: 0.084, b: 2.708  cost: 1.231111\n",
      "W: 0.086, b: 2.700  cost: 1.223654\n",
      "W: 0.088, b: 2.692  cost: 1.216272\n",
      "W: 0.091, b: 2.683  cost: 1.208954\n",
      "W: 0.093, b: 2.675  cost: 1.201694\n",
      "W: 0.095, b: 2.667  cost: 1.194487\n",
      "W: 0.097, b: 2.659  cost: 1.187330\n",
      "W: 0.100, b: 2.651  cost: 1.180220\n",
      "W: 0.102, b: 2.643  cost: 1.173156\n",
      "W: 0.105, b: 2.635  cost: 1.166137\n",
      "W: 0.107, b: 2.627  cost: 1.159161\n",
      "W: 0.110, b: 2.619  cost: 1.152229\n",
      "W: 0.113, b: 2.611  cost: 1.145338\n",
      "W: 0.115, b: 2.603  cost: 1.138489\n",
      "W: 0.118, b: 2.595  cost: 1.131681\n",
      "W: 0.120, b: 2.588  cost: 1.124914\n",
      "W: 0.123, b: 2.580  cost: 1.118188\n",
      "W: 0.125, b: 2.572  cost: 1.111503\n",
      "W: 0.128, b: 2.564  cost: 1.104857\n",
      "W: 0.131, b: 2.557  cost: 1.098251\n",
      "W: 0.133, b: 2.549  cost: 1.091685\n",
      "W: 0.136, b: 2.541  cost: 1.085158\n",
      "W: 0.138, b: 2.534  cost: 1.078670\n",
      "W: 0.141, b: 2.526  cost: 1.072220\n",
      "W: 0.143, b: 2.519  cost: 1.065810\n",
      "W: 0.146, b: 2.511  cost: 1.059437\n",
      "W: 0.149, b: 2.504  cost: 1.053103\n",
      "W: 0.151, b: 2.496  cost: 1.046806\n",
      "W: 0.154, b: 2.489  cost: 1.040548\n",
      "W: 0.156, b: 2.481  cost: 1.034327\n",
      "W: 0.159, b: 2.474  cost: 1.028143\n",
      "W: 0.161, b: 2.466  cost: 1.021996\n",
      "W: 0.164, b: 2.459  cost: 1.015885\n",
      "W: 0.166, b: 2.452  cost: 1.009811\n",
      "W: 0.169, b: 2.444  cost: 1.003774\n",
      "W: 0.171, b: 2.437  cost: 0.997773\n",
      "W: 0.174, b: 2.430  cost: 0.991807\n",
      "W: 0.176, b: 2.422  cost: 0.985877\n",
      "W: 0.179, b: 2.415  cost: 0.979983\n",
      "W: 0.181, b: 2.408  cost: 0.974124\n",
      "W: 0.183, b: 2.401  cost: 0.968300\n",
      "W: 0.186, b: 2.393  cost: 0.962510\n",
      "W: 0.188, b: 2.386  cost: 0.956756\n",
      "W: 0.191, b: 2.379  cost: 0.951035\n",
      "W: 0.193, b: 2.372  cost: 0.945349\n",
      "W: 0.196, b: 2.365  cost: 0.939697\n",
      "W: 0.198, b: 2.358  cost: 0.934079\n",
      "W: 0.200, b: 2.351  cost: 0.928494\n",
      "W: 0.203, b: 2.344  cost: 0.922943\n",
      "W: 0.205, b: 2.337  cost: 0.917425\n",
      "W: 0.208, b: 2.330  cost: 0.911940\n",
      "W: 0.210, b: 2.323  cost: 0.906487\n",
      "W: 0.212, b: 2.316  cost: 0.901068\n",
      "W: 0.215, b: 2.309  cost: 0.895680\n",
      "W: 0.217, b: 2.302  cost: 0.890325\n",
      "W: 0.219, b: 2.295  cost: 0.885002\n",
      "W: 0.222, b: 2.288  cost: 0.879711\n",
      "W: 0.224, b: 2.281  cost: 0.874451\n",
      "W: 0.226, b: 2.275  cost: 0.869223\n",
      "W: 0.229, b: 2.268  cost: 0.864026\n",
      "W: 0.231, b: 2.261  cost: 0.858860\n",
      "W: 0.233, b: 2.254  cost: 0.853725\n",
      "W: 0.236, b: 2.247  cost: 0.848621\n",
      "W: 0.238, b: 2.241  cost: 0.843547\n",
      "W: 0.240, b: 2.234  cost: 0.838504\n",
      "W: 0.242, b: 2.227  cost: 0.833490\n"
     ]
    }
   ],
   "source": [
    "for i in range(100):\n",
    "    \n",
    "    with tf.GradientTape() as tape:\n",
    "        \n",
    "        hypothesis = W * x + b\n",
    "        cost = tf.reduce_mean(tf.square(hypothesis-Y))\n",
    "    \n",
    "    W_grad, b_grad = tape.gradient(cost, [W, b])\n",
    "    W.assign_sub(W_grad * learning_rate)\n",
    "    b.assign_sub(b_grad * learning_rate)\n",
    "    \n",
    "    print(\"W: {:.3f}, b: {:.3f}  cost: {:3.6f}\".format(W.numpy(),b.numpy(),cost))\n",
    "    "
   ]
  },
  {
   "cell_type": "code",
   "execution_count": null,
   "metadata": {},
   "outputs": [],
   "source": []
  },
  {
   "cell_type": "code",
   "execution_count": null,
   "metadata": {},
   "outputs": [],
   "source": []
  }
 ],
 "metadata": {
  "kernelspec": {
   "display_name": "Python 3",
   "language": "python",
   "name": "python3"
  },
  "language_info": {
   "codemirror_mode": {
    "name": "ipython",
    "version": 3
   },
   "file_extension": ".py",
   "mimetype": "text/x-python",
   "name": "python",
   "nbconvert_exporter": "python",
   "pygments_lexer": "ipython3",
   "version": "3.8.5"
  }
 },
 "nbformat": 4,
 "nbformat_minor": 4
}
